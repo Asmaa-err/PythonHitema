{
 "cells": [
  {
   "cell_type": "markdown",
   "metadata": {},
   "source": []
  },
  {
   "cell_type": "code",
   "execution_count": 1,
   "metadata": {},
   "outputs": [],
   "source": [
    "a=10"
   ]
  },
  {
   "cell_type": "code",
   "execution_count": 2,
   "metadata": {},
   "outputs": [
    {
     "ename": "NameError",
     "evalue": "name 'asmaaerrahmani' is not defined",
     "output_type": "error",
     "traceback": [
      "\u001b[1;31m---------------------------------------------------------------------------\u001b[0m",
      "\u001b[1;31mNameError\u001b[0m                                 Traceback (most recent call last)",
      "\u001b[1;32m<ipython-input-2-1d6815ae3922>\u001b[0m in \u001b[0;36m<module>\u001b[1;34m\u001b[0m\n\u001b[1;32m----> 1\u001b[1;33m \u001b[0mmot\u001b[0m \u001b[1;33m=\u001b[0m \u001b[1;33m[\u001b[0m\u001b[0masmaaerrahmani\u001b[0m\u001b[1;33m]\u001b[0m\u001b[1;33m\u001b[0m\u001b[1;33m\u001b[0m\u001b[0m\n\u001b[0m\u001b[0;32m      2\u001b[0m \u001b[0mmot\u001b[0m\u001b[1;33m[\u001b[0m\u001b[1;33m-\u001b[0m\u001b[1;36m1\u001b[0m\u001b[1;33m]\u001b[0m\u001b[1;33m\u001b[0m\u001b[1;33m\u001b[0m\u001b[0m\n",
      "\u001b[1;31mNameError\u001b[0m: name 'asmaaerrahmani' is not defined"
     ]
    }
   ],
   "source": [
    "mot = [asmaaerrahmani]\n",
    "mot[-1]"
   ]
  },
  {
   "cell_type": "code",
   "execution_count": 3,
   "metadata": {},
   "outputs": [
    {
     "data": {
      "text/plain": [
       "'i'"
      ]
     },
     "execution_count": 3,
     "metadata": {},
     "output_type": "execute_result"
    }
   ],
   "source": [
    "mot = 'asmaaerrahmani'\n",
    "mot[-1]\n"
   ]
  },
  {
   "cell_type": "code",
   "execution_count": 4,
   "metadata": {},
   "outputs": [
    {
     "data": {
      "text/plain": [
       "5"
      ]
     },
     "execution_count": 4,
     "metadata": {},
     "output_type": "execute_result"
    }
   ],
   "source": [
    "prenom = 'asmaa' \n",
    "len(prenom)"
   ]
  },
  {
   "cell_type": "code",
   "execution_count": 5,
   "metadata": {},
   "outputs": [
    {
     "data": {
      "text/plain": [
       "'ma'"
      ]
     },
     "execution_count": 5,
     "metadata": {},
     "output_type": "execute_result"
    }
   ],
   "source": [
    "prenom = 'asmaa'\n",
    "prenom[2:4]"
   ]
  },
  {
   "cell_type": "code",
   "execution_count": 6,
   "metadata": {},
   "outputs": [
    {
     "name": "stdout",
     "output_type": "stream",
     "text": [
      "(0, 'a')\n",
      "(1, 's')\n",
      "(2, 'm')\n",
      "(3, 'a')\n",
      "(4, 'a')\n"
     ]
    }
   ],
   "source": [
    "for lettre in enumerate(prenom):\n",
    "    print(lettre)"
   ]
  },
  {
   "cell_type": "code",
   "execution_count": 7,
   "metadata": {},
   "outputs": [
    {
     "ename": "SyntaxError",
     "evalue": "invalid syntax (<ipython-input-7-8f65ebb44416>, line 1)",
     "output_type": "error",
     "traceback": [
      "\u001b[1;36m  File \u001b[1;32m\"<ipython-input-7-8f65ebb44416>\"\u001b[1;36m, line \u001b[1;32m1\u001b[0m\n\u001b[1;33m    type prenom\u001b[0m\n\u001b[1;37m         ^\u001b[0m\n\u001b[1;31mSyntaxError\u001b[0m\u001b[1;31m:\u001b[0m invalid syntax\n"
     ]
    }
   ],
   "source": [
    "type prenom"
   ]
  },
  {
   "cell_type": "code",
   "execution_count": 17,
   "metadata": {},
   "outputs": [
    {
     "name": "stdout",
     "output_type": "stream",
     "text": [
      "[0]\n",
      "1 est Impaire\n",
      "[4]\n",
      "3 est Impaire\n",
      "[16]\n",
      "5 est Impaire\n"
     ]
    }
   ],
   "source": [
    "liste_a = [0, 1, 2, 3, 4, 5]\n",
    "for nb in liste_a :\n",
    "    if (nb  % 2) == 0:\n",
    "       print([nb * nb ])\n",
    "    else:\n",
    "       print(nb, \"est Impaire\")\n"
   ]
  },
  {
   "cell_type": "code",
   "execution_count": 20,
   "metadata": {},
   "outputs": [
    {
     "name": "stdout",
     "output_type": "stream",
     "text": [
      "Le solde du compte bancaire de Duchmol est de 950 euros\n"
     ]
    }
   ],
   "source": [
    "class CompteBancaire:\n",
    "    def __init__(self, nom= \"Dupont\",solde= 1000):\n",
    "        self.nom = nom\n",
    "        self.solde = solde\n",
    "  #---getters---#      \n",
    "    def getNom(self):\n",
    "        return self.nom\n",
    "    def getSolde(self):\n",
    "        return self.solde\n",
    "  #---setters---#   \n",
    "    def setNom(self, name):\n",
    "        self.nom = name\n",
    "    def setSolde (self, sld):\n",
    "        self.solde = sld\n",
    "  #---méthodes---# \n",
    "        #---dépot---#\n",
    "    def depot(self,somme):\n",
    "        sld_compte= self.getSolde()+somme\n",
    "        self.setSolde(sld_compte)\n",
    "        #---retrait---#\n",
    "    def retrait(self,somme):\n",
    "        sld_compte= self.getSolde()-somme\n",
    "        self.setSolde(sld_compte)\n",
    "        #---affichage---#\n",
    "    def affiche(self):\n",
    "        print(\"Le solde du compte bancaire de\",self.getNom(),\"est de\",self.getSolde(),'euros')\n",
    "        \n",
    "compte1 = CompteBancaire(\"Duchmol\", 800)\n",
    "compte1.depot(350)\n",
    "compte1.retrait(200)\n",
    "compte1.affiche()"
   ]
  },
  {
   "cell_type": "code",
   "execution_count": 21,
   "metadata": {},
   "outputs": [
    {
     "name": "stdout",
     "output_type": "stream",
     "text": [
      "Le solde du compte bancaire de Dupont est de 1025 euros\n"
     ]
    }
   ],
   "source": [
    "compte2 = CompteBancaire()\n",
    "compte2.depot(25)\n",
    "compte2.affiche()"
   ]
  },
  {
   "cell_type": "code",
   "execution_count": 43,
   "metadata": {},
   "outputs": [],
   "source": [
    "class Point:\n",
    "    def __init__(self,x,y,z=0.0):\n",
    "        self.x= float(x)\n",
    "        self.y= float(y)\n",
    "        self.z= float(z)\n",
    "    def getZ(self):\n",
    "        return self.z\n",
    "    def ToString(self):\n",
    "        if self.getZ() :\n",
    "            print(\"P(\",self.x,\",\",self.y,\")\")\n",
    "        else : \n",
    "           print(\"P(\",self.x,\",\",self.y,\",\",self.z,\")\") \n",
    "            "
   ]
  },
  {
   "cell_type": "code",
   "execution_count": 44,
   "metadata": {},
   "outputs": [
    {
     "name": "stdout",
     "output_type": "stream",
     "text": [
      "P( 2.0 , 3.0 , 0.0 )\n"
     ]
    }
   ],
   "source": [
    "P1=Point(2,3)\n",
    "P1.ToString()"
   ]
  },
  {
   "cell_type": "code",
   "execution_count": 46,
   "metadata": {},
   "outputs": [
    {
     "name": "stdout",
     "output_type": "stream",
     "text": [
      "P( 2.0 , 3.0 )\n"
     ]
    }
   ],
   "source": [
    "P1=Point(2,3,4)\n",
    "P1.ToString()"
   ]
  },
  {
   "cell_type": "code",
   "execution_count": null,
   "metadata": {},
   "outputs": [],
   "source": []
  },
  {
   "cell_type": "code",
   "execution_count": null,
   "metadata": {},
   "outputs": [],
   "source": []
  }
 ],
 "metadata": {
  "kernelspec": {
   "display_name": "Python 3",
   "language": "python",
   "name": "python3"
  },
  "language_info": {
   "codemirror_mode": {
    "name": "ipython",
    "version": 3
   },
   "file_extension": ".py",
   "mimetype": "text/x-python",
   "name": "python",
   "nbconvert_exporter": "python",
   "pygments_lexer": "ipython3",
   "version": "3.8.2"
  }
 },
 "nbformat": 4,
 "nbformat_minor": 4
}
