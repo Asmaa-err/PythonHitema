{
 "cells": [
  {
   "cell_type": "markdown",
   "metadata": {},
   "source": []
  },
  {
   "cell_type": "code",
   "execution_count": 1,
   "metadata": {},
   "outputs": [],
   "source": [
    "a=10"
   ]
  },
  {
   "cell_type": "code",
   "execution_count": 2,
   "metadata": {},
   "outputs": [
    {
     "ename": "NameError",
     "evalue": "name 'asmaaerrahmani' is not defined",
     "output_type": "error",
     "traceback": [
      "\u001b[1;31m---------------------------------------------------------------------------\u001b[0m",
      "\u001b[1;31mNameError\u001b[0m                                 Traceback (most recent call last)",
      "\u001b[1;32m<ipython-input-2-1d6815ae3922>\u001b[0m in \u001b[0;36m<module>\u001b[1;34m\u001b[0m\n\u001b[1;32m----> 1\u001b[1;33m \u001b[0mmot\u001b[0m \u001b[1;33m=\u001b[0m \u001b[1;33m[\u001b[0m\u001b[0masmaaerrahmani\u001b[0m\u001b[1;33m]\u001b[0m\u001b[1;33m\u001b[0m\u001b[1;33m\u001b[0m\u001b[0m\n\u001b[0m\u001b[0;32m      2\u001b[0m \u001b[0mmot\u001b[0m\u001b[1;33m[\u001b[0m\u001b[1;33m-\u001b[0m\u001b[1;36m1\u001b[0m\u001b[1;33m]\u001b[0m\u001b[1;33m\u001b[0m\u001b[1;33m\u001b[0m\u001b[0m\n",
      "\u001b[1;31mNameError\u001b[0m: name 'asmaaerrahmani' is not defined"
     ]
    }
   ],
   "source": [
    "mot = [asmaaerrahmani]\n",
    "mot[-1]"
   ]
  },
  {
   "cell_type": "code",
   "execution_count": 3,
   "metadata": {},
   "outputs": [
    {
     "data": {
      "text/plain": [
       "'i'"
      ]
     },
     "execution_count": 3,
     "metadata": {},
     "output_type": "execute_result"
    }
   ],
   "source": [
    "mot = 'asmaaerrahmani'\n",
    "mot[-1]\n"
   ]
  },
  {
   "cell_type": "code",
   "execution_count": 4,
   "metadata": {},
   "outputs": [
    {
     "data": {
      "text/plain": [
       "5"
      ]
     },
     "execution_count": 4,
     "metadata": {},
     "output_type": "execute_result"
    }
   ],
   "source": [
    "prenom = 'asmaa' \n",
    "len(prenom)"
   ]
  },
  {
   "cell_type": "code",
   "execution_count": 5,
   "metadata": {},
   "outputs": [
    {
     "data": {
      "text/plain": [
       "'ma'"
      ]
     },
     "execution_count": 5,
     "metadata": {},
     "output_type": "execute_result"
    }
   ],
   "source": [
    "prenom = 'asmaa'\n",
    "prenom[2:4]"
   ]
  },
  {
   "cell_type": "code",
   "execution_count": 6,
   "metadata": {},
   "outputs": [
    {
     "name": "stdout",
     "output_type": "stream",
     "text": [
      "(0, 'a')\n",
      "(1, 's')\n",
      "(2, 'm')\n",
      "(3, 'a')\n",
      "(4, 'a')\n"
     ]
    }
   ],
   "source": [
    "for lettre in enumerate(prenom):\n",
    "    print(lettre)"
   ]
  },
  {
   "cell_type": "code",
   "execution_count": 7,
   "metadata": {},
   "outputs": [
    {
     "ename": "SyntaxError",
     "evalue": "invalid syntax (<ipython-input-7-8f65ebb44416>, line 1)",
     "output_type": "error",
     "traceback": [
      "\u001b[1;36m  File \u001b[1;32m\"<ipython-input-7-8f65ebb44416>\"\u001b[1;36m, line \u001b[1;32m1\u001b[0m\n\u001b[1;33m    type prenom\u001b[0m\n\u001b[1;37m         ^\u001b[0m\n\u001b[1;31mSyntaxError\u001b[0m\u001b[1;31m:\u001b[0m invalid syntax\n"
     ]
    }
   ],
   "source": [
    "type prenom"
   ]
  },
  {
   "cell_type": "code",
   "execution_count": 17,
   "metadata": {},
   "outputs": [
    {
     "name": "stdout",
     "output_type": "stream",
     "text": [
      "[0]\n",
      "1 est Impaire\n",
      "[4]\n",
      "3 est Impaire\n",
      "[16]\n",
      "5 est Impaire\n"
     ]
    }
   ],
   "source": [
    "liste_a = [0, 1, 2, 3, 4, 5]\n",
    "for nb in liste_a :\n",
    "    if (nb  % 2) == 0:\n",
    "       print([nb * nb ])\n",
    "    else:\n",
    "       print(nb, \"est Impaire\")\n"
   ]
  },
  {
   "cell_type": "code",
   "execution_count": 20,
   "metadata": {},
   "outputs": [
    {
     "name": "stdout",
     "output_type": "stream",
     "text": [
      "Le solde du compte bancaire de Duchmol est de 950 euros\n"
     ]
    }
   ],
   "source": [
    "#EXO 1\n",
    "class CompteBancaire:\n",
    "    def __init__(self, nom= \"Dupont\",solde= 1000):\n",
    "        self.nom = nom\n",
    "        self.solde = solde\n",
    "  #---getters---#      \n",
    "    def getNom(self):\n",
    "        return self.nom\n",
    "    def getSolde(self):\n",
    "        return self.solde\n",
    "  #---setters---#   \n",
    "    def setNom(self, name):\n",
    "        self.nom = name\n",
    "    def setSolde (self, sld):\n",
    "        self.solde = sld\n",
    "  #---méthodes---# \n",
    "        #---dépot---#\n",
    "    def depot(self,somme):\n",
    "        sld_compte= self.getSolde()+somme\n",
    "        self.setSolde(sld_compte)\n",
    "        #---retrait---#\n",
    "    def retrait(self,somme):\n",
    "        sld_compte= self.getSolde()-somme\n",
    "        self.setSolde(sld_compte)\n",
    "        #---affichage---#\n",
    "    def affiche(self):\n",
    "        print(\"Le solde du compte bancaire de\",self.getNom(),\"est de\",self.getSolde(),'euros')\n",
    "        \n",
    "compte1 = CompteBancaire(\"Duchmol\", 800)\n",
    "compte1.depot(350)\n",
    "compte1.retrait(200)\n",
    "compte1.affiche()"
   ]
  },
  {
   "cell_type": "code",
   "execution_count": 21,
   "metadata": {},
   "outputs": [
    {
     "name": "stdout",
     "output_type": "stream",
     "text": [
      "Le solde du compte bancaire de Dupont est de 1025 euros\n"
     ]
    }
   ],
   "source": [
    "compte2 = CompteBancaire()\n",
    "compte2.depot(25)\n",
    "compte2.affiche()"
   ]
  },
  {
   "cell_type": "code",
   "execution_count": 47,
   "metadata": {},
   "outputs": [],
   "source": [
    "#EXO 2\n",
    "class Point:\n",
    "    def __init__(self,x,y,z=0.0):\n",
    "        self.x= float(x)\n",
    "        self.y= float(y)\n",
    "        self.z= float(z)\n",
    "    def getZ(self):\n",
    "        return self.z\n",
    "    def ToString(self):\n",
    "        if not self.getZ() :\n",
    "            print(\"P(\",self.x,\",\",self.y,\")\")\n",
    "        else : \n",
    "           print(\"P(\",self.x,\",\",self.y,\",\",self.z,\")\") \n",
    "            "
   ]
  },
  {
   "cell_type": "code",
   "execution_count": 48,
   "metadata": {},
   "outputs": [
    {
     "name": "stdout",
     "output_type": "stream",
     "text": [
      "P( 2.0 , 3.0 )\n"
     ]
    }
   ],
   "source": [
    "P1=Point(2,3)\n",
    "P1.ToString()"
   ]
  },
  {
   "cell_type": "code",
   "execution_count": 49,
   "metadata": {},
   "outputs": [
    {
     "name": "stdout",
     "output_type": "stream",
     "text": [
      "P( 2.0 , 3.0 , 4.0 )\n"
     ]
    }
   ],
   "source": [
    "P1=Point(2,3,4)\n",
    "P1.ToString()"
   ]
  },
  {
   "cell_type": "code",
   "execution_count": 175,
   "metadata": {},
   "outputs": [],
   "source": [
    "#Exo3\n",
    "class DateDeNaissance:\n",
    "    def __init__(self,jour,mois,année):\n",
    "        self.jour= jour\n",
    "        self.mois= mois\n",
    "        self.année= année\n",
    "    def ToString(self):\n",
    "        return str(str(self.jour)+\"/\"+str(self.mois)+\"/\"+str(self.année))"
   ]
  },
  {
   "cell_type": "code",
   "execution_count": 176,
   "metadata": {},
   "outputs": [],
   "source": [
    "madate=DateDeNaissance(6,9,1997)"
   ]
  },
  {
   "cell_type": "code",
   "execution_count": 177,
   "metadata": {},
   "outputs": [
    {
     "data": {
      "text/plain": [
       "'6/9/1997'"
      ]
     },
     "execution_count": 177,
     "metadata": {},
     "output_type": "execute_result"
    }
   ],
   "source": [
    "madate.ToString()"
   ]
  },
  {
   "cell_type": "code",
   "execution_count": 178,
   "metadata": {},
   "outputs": [],
   "source": [
    "class Personne:\n",
    "    def __init__(self,nom,prenom,DateDeNaissance):\n",
    "        self.nom= nom\n",
    "        self.prenom= prenom\n",
    "        self.datenaissance=DateDeNaissance.ToString()\n",
    "    def afficher(self):\n",
    "        print(\"Nom :\",self.nom,\"\\n\",\"Prenom :\",self.prenom,\"\\n\",\"Date de naissance:\",self.datenaissance)"
   ]
  },
  {
   "cell_type": "code",
   "execution_count": 179,
   "metadata": {},
   "outputs": [
    {
     "name": "stdout",
     "output_type": "stream",
     "text": [
      "Nom : Ilyass \n",
      " Prenom : Math \n",
      " Date de naissance: 1/7/1982\n"
     ]
    }
   ],
   "source": [
    "P=Personne(\"Ilyass\",\"Math\",DateDeNaissance(1,7,1982))\n",
    "P.afficher()"
   ]
  },
  {
   "cell_type": "code",
   "execution_count": 180,
   "metadata": {},
   "outputs": [],
   "source": [
    "class Employe(Personne):\n",
    "    def __init__(self, nom, prenom, DateDeNaissance, salaire):\n",
    "        Personne.__init__(self, nom, prenom, DateDeNaissance)\n",
    "        self.salaire = salaire\n",
    "    def afficher(self):\n",
    "        Personne.afficher(self)\n",
    "        print(\"Salaire: \", self.salaire)"
   ]
  },
  {
   "cell_type": "code",
   "execution_count": 181,
   "metadata": {},
   "outputs": [
    {
     "name": "stdout",
     "output_type": "stream",
     "text": [
      "Nom : Ilyass \n",
      " Prenom : Math \n",
      " Date de naissance: 1/7/1985\n",
      "Salaire:  7865.548\n"
     ]
    }
   ],
   "source": [
    "E=Employe(\"Ilyass\",\"Math\",DateDeNaissance(1,7,1985),7865.548)\n",
    "E.afficher()"
   ]
  },
  {
   "cell_type": "code",
   "execution_count": 187,
   "metadata": {},
   "outputs": [],
   "source": [
    "class Chef(Employe):\n",
    "    def __init__(self, nom, prenom, DateDeNaissance, salaire, service):\n",
    "        Employe.__init__(self, nom, prenom, DateDeNaissance, salaire)\n",
    "        self.service = service\n",
    "    def afficher(self):\n",
    "        Employe.afficher(self)\n",
    "        print(\"Service: \", self.service)"
   ]
  },
  {
   "cell_type": "code",
   "execution_count": 188,
   "metadata": {},
   "outputs": [
    {
     "name": "stdout",
     "output_type": "stream",
     "text": [
      "Nom : Ilyass \n",
      " Prenom : Math \n",
      " Date de naissance: 1/7/1988\n",
      "Salaire:  7865.548\n",
      "Service:  Ressource humaine\n"
     ]
    }
   ],
   "source": [
    "Ch=Chef(\"Ilyass\",\"Math\",DateDeNaissance(1,7,1988),7865.548,\"Ressource humaine\")\n",
    "Ch.afficher()"
   ]
  },
  {
   "cell_type": "code",
   "execution_count": 238,
   "metadata": {},
   "outputs": [],
   "source": [
    "#EXO4\n",
    "class Lettre:\n",
    "    def __init__(self, exp, dest, poids, mode_exp,forma):\n",
    "        self.exp = exp\n",
    "        self.dest = dest\n",
    "        self.poids = poids\n",
    "        self.mode_exp = mode_exp\n",
    "        self.forma = forma\n",
    "    def calculTimbre(self):\n",
    "        if self.forma== \"A4\":\n",
    "            tarif_de_base = 2.50  \n",
    "        else :\n",
    "            tarif_de_base = 3.50\n",
    "        montant = tarif_de_base * (self.poids / 1000)\n",
    "        if self.mode_exp== \"normal\":\n",
    "            return montant\n",
    "        else :\n",
    "            return montant*2\n",
    "    def ToString(self):\n",
    "        print(\"Adresse destination : \", self.dest, \"\\n\"\n",
    "              \"Adresse d'expedition : \", self.exp,\"\\n\"\n",
    "              \"Poids : \", self.poids, \"grammes\",\"\\n\"\n",
    "              \"Mode : \", self.mode_exp,\"\\n\"\n",
    "              \"Format : \", self.forma,\"\\n\"\n",
    "              \"Prix du timbre : \", self.calculTimbre())\n",
    "        \n",
    "        "
   ]
  },
  {
   "cell_type": "code",
   "execution_count": 239,
   "metadata": {},
   "outputs": [
    {
     "name": "stdout",
     "output_type": "stream",
     "text": [
      "Adresse destination :  Paris \n",
      "Adresse d'expedition :  Lille \n",
      "Poids :  80 grammes \n",
      "Mode :  normal \n",
      "Format :  A4 \n",
      "Prix du timbre :  0.2\n"
     ]
    }
   ],
   "source": [
    "L1=Lettre(\"Lille\",\"Paris\",80,\"normal\",\"A4\")\n",
    "L1.ToString()"
   ]
  },
  {
   "cell_type": "code",
   "execution_count": 240,
   "metadata": {},
   "outputs": [],
   "source": [
    "class Colis:\n",
    "    def __init__(self, exp, dest, poids, mode_exp,volume):\n",
    "        self.exp = exp\n",
    "        self.dest = dest\n",
    "        self.poids = poids\n",
    "        self.mode_exp = mode_exp\n",
    "        self.volume = volume\n",
    "    def calculTimbre(self): \n",
    "         montant=0.25*self.volume*(self.poids/1000)\n",
    "         if self.mode_exp== \"normal\":\n",
    "            return montant\n",
    "         else :\n",
    "            return montant*2\n",
    "    def ToString(self):\n",
    "        print(\"Adresse destination : \", self.dest, \"\\n\"\n",
    "              \"Adresse d'expedition : \", self.exp,\"\\n\"\n",
    "              \"Poids : \", self.poids, \"grammes\",\"\\n\"\n",
    "              \"Mode : \", self.mode_exp,\"\\n\"\n",
    "              \"Volume : \", self.volume,\"\\n\"\n",
    "              \"Prix du timbre : \", self.calculTimbre())\n",
    "    "
   ]
  },
  {
   "cell_type": "code",
   "execution_count": 241,
   "metadata": {},
   "outputs": [
    {
     "name": "stdout",
     "output_type": "stream",
     "text": [
      "Adresse destination :  Barcelone \n",
      "Adresse d'expedition :  Marrakech \n",
      "Poids :  3500 grammes \n",
      "Mode :  express \n",
      "Volume :  2.25 \n",
      "Prix du timbre :  3.9375\n"
     ]
    }
   ],
   "source": [
    "C1=Colis(\"Marrakech\",\"Barcelone\",3500,\"express\",2.25)\n",
    "C1.ToString()"
   ]
  },
  {
   "cell_type": "code",
   "execution_count": null,
   "metadata": {},
   "outputs": [],
   "source": []
  }
 ],
 "metadata": {
  "kernelspec": {
   "display_name": "Python 3",
   "language": "python",
   "name": "python3"
  },
  "language_info": {
   "codemirror_mode": {
    "name": "ipython",
    "version": 3
   },
   "file_extension": ".py",
   "mimetype": "text/x-python",
   "name": "python",
   "nbconvert_exporter": "python",
   "pygments_lexer": "ipython3",
   "version": "3.8.2"
  }
 },
 "nbformat": 4,
 "nbformat_minor": 4
}
